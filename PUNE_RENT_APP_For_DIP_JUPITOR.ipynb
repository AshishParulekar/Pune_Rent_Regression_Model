{
 "cells": [
  {
   "cell_type": "code",
   "execution_count": 1,
   "id": "9de47189",
   "metadata": {},
   "outputs": [],
   "source": [
    "import pandas as pd \n",
    "import warnings\n",
    "warnings.filterwarnings('ignore')\n",
    "import seaborn as sns\n",
    "import matplotlib.pyplot as plt\n",
    "from sklearn.preprocessing import OneHotEncoder,LabelEncoder\n"
   ]
  },
  {
   "cell_type": "code",
   "execution_count": 2,
   "id": "01a1e8ca",
   "metadata": {},
   "outputs": [],
   "source": [
    "Data=pd.read_csv('Pune_rent.csv')"
   ]
  },
  {
   "cell_type": "code",
   "execution_count": 3,
   "id": "69df357a",
   "metadata": {},
   "outputs": [
    {
     "data": {
      "text/plain": [
       "(22800, 9)"
      ]
     },
     "execution_count": 3,
     "metadata": {},
     "output_type": "execute_result"
    }
   ],
   "source": [
    "Data.shape"
   ]
  },
  {
   "cell_type": "code",
   "execution_count": 4,
   "id": "a40cf33a",
   "metadata": {},
   "outputs": [
    {
     "name": "stdout",
     "output_type": "stream",
     "text": [
      "<class 'pandas.core.frame.DataFrame'>\n",
      "RangeIndex: 22800 entries, 0 to 22799\n",
      "Data columns (total 9 columns):\n",
      " #   Column         Non-Null Count  Dtype \n",
      "---  ------         --------------  ----- \n",
      " 0   seller_type    22800 non-null  object\n",
      " 1   bedroom        22800 non-null  int64 \n",
      " 2   layout_type    22800 non-null  object\n",
      " 3   property_type  22800 non-null  object\n",
      " 4   locality       22800 non-null  object\n",
      " 5   price          22800 non-null  object\n",
      " 6   area           22800 non-null  int64 \n",
      " 7   furnish_type   22800 non-null  object\n",
      " 8   bathroom       22629 non-null  object\n",
      "dtypes: int64(2), object(7)\n",
      "memory usage: 1.6+ MB\n"
     ]
    }
   ],
   "source": [
    "Data.info()"
   ]
  },
  {
   "cell_type": "code",
   "execution_count": 5,
   "id": "1be51180",
   "metadata": {},
   "outputs": [],
   "source": [
    "Data_new=Data.drop_duplicates()"
   ]
  },
  {
   "cell_type": "code",
   "execution_count": 6,
   "id": "dbaf75b3",
   "metadata": {},
   "outputs": [
    {
     "data": {
      "text/plain": [
       "(14553, 9)"
      ]
     },
     "execution_count": 6,
     "metadata": {},
     "output_type": "execute_result"
    }
   ],
   "source": [
    "Data_new.shape"
   ]
  },
  {
   "cell_type": "code",
   "execution_count": 7,
   "id": "6152e653",
   "metadata": {},
   "outputs": [
    {
     "data": {
      "text/plain": [
       "seller_type        0\n",
       "bedroom            0\n",
       "layout_type        0\n",
       "property_type      0\n",
       "locality           0\n",
       "price              0\n",
       "area               0\n",
       "furnish_type       0\n",
       "bathroom         128\n",
       "dtype: int64"
      ]
     },
     "execution_count": 7,
     "metadata": {},
     "output_type": "execute_result"
    }
   ],
   "source": [
    "Data_new.isnull().sum()"
   ]
  },
  {
   "cell_type": "code",
   "execution_count": 8,
   "id": "8cd2c457",
   "metadata": {},
   "outputs": [
    {
     "data": {
      "text/html": [
       "<div>\n",
       "<style scoped>\n",
       "    .dataframe tbody tr th:only-of-type {\n",
       "        vertical-align: middle;\n",
       "    }\n",
       "\n",
       "    .dataframe tbody tr th {\n",
       "        vertical-align: top;\n",
       "    }\n",
       "\n",
       "    .dataframe thead th {\n",
       "        text-align: right;\n",
       "    }\n",
       "</style>\n",
       "<table border=\"1\" class=\"dataframe\">\n",
       "  <thead>\n",
       "    <tr style=\"text-align: right;\">\n",
       "      <th></th>\n",
       "      <th>seller_type</th>\n",
       "      <th>bedroom</th>\n",
       "      <th>layout_type</th>\n",
       "      <th>property_type</th>\n",
       "      <th>locality</th>\n",
       "      <th>price</th>\n",
       "      <th>area</th>\n",
       "      <th>furnish_type</th>\n",
       "      <th>bathroom</th>\n",
       "    </tr>\n",
       "  </thead>\n",
       "  <tbody>\n",
       "    <tr>\n",
       "      <th>0</th>\n",
       "      <td>OWNER</td>\n",
       "      <td>1</td>\n",
       "      <td>BHK</td>\n",
       "      <td>Independent Floor</td>\n",
       "      <td>Mundhwa</td>\n",
       "      <td>6,750</td>\n",
       "      <td>450</td>\n",
       "      <td>Unfurnished</td>\n",
       "      <td>1 bathrooms</td>\n",
       "    </tr>\n",
       "    <tr>\n",
       "      <th>1</th>\n",
       "      <td>OWNER</td>\n",
       "      <td>2</td>\n",
       "      <td>BHK</td>\n",
       "      <td>Apartment</td>\n",
       "      <td>Wakad</td>\n",
       "      <td>18,000</td>\n",
       "      <td>916</td>\n",
       "      <td>Unfurnished</td>\n",
       "      <td>2 bathrooms</td>\n",
       "    </tr>\n",
       "    <tr>\n",
       "      <th>2</th>\n",
       "      <td>OWNER</td>\n",
       "      <td>3</td>\n",
       "      <td>BHK</td>\n",
       "      <td>Apartment</td>\n",
       "      <td>Wagholi</td>\n",
       "      <td>16,500</td>\n",
       "      <td>1085</td>\n",
       "      <td>Semi-Furnished</td>\n",
       "      <td>3 bathrooms</td>\n",
       "    </tr>\n",
       "    <tr>\n",
       "      <th>3</th>\n",
       "      <td>OWNER</td>\n",
       "      <td>1</td>\n",
       "      <td>RK</td>\n",
       "      <td>Studio Apartment</td>\n",
       "      <td>Kothrud</td>\n",
       "      <td>8,000</td>\n",
       "      <td>250</td>\n",
       "      <td>Furnished</td>\n",
       "      <td>1 bathrooms</td>\n",
       "    </tr>\n",
       "    <tr>\n",
       "      <th>4</th>\n",
       "      <td>OWNER</td>\n",
       "      <td>2</td>\n",
       "      <td>BHK</td>\n",
       "      <td>Apartment</td>\n",
       "      <td>Yerawada</td>\n",
       "      <td>25,000</td>\n",
       "      <td>1005</td>\n",
       "      <td>Semi-Furnished</td>\n",
       "      <td>2 bathrooms</td>\n",
       "    </tr>\n",
       "    <tr>\n",
       "      <th>...</th>\n",
       "      <td>...</td>\n",
       "      <td>...</td>\n",
       "      <td>...</td>\n",
       "      <td>...</td>\n",
       "      <td>...</td>\n",
       "      <td>...</td>\n",
       "      <td>...</td>\n",
       "      <td>...</td>\n",
       "      <td>...</td>\n",
       "    </tr>\n",
       "    <tr>\n",
       "      <th>22795</th>\n",
       "      <td>OWNER</td>\n",
       "      <td>1</td>\n",
       "      <td>BHK</td>\n",
       "      <td>Apartment</td>\n",
       "      <td>Chinchwad</td>\n",
       "      <td>13,250</td>\n",
       "      <td>650</td>\n",
       "      <td>Semi-Furnished</td>\n",
       "      <td>1 bathrooms</td>\n",
       "    </tr>\n",
       "    <tr>\n",
       "      <th>22796</th>\n",
       "      <td>OWNER</td>\n",
       "      <td>1</td>\n",
       "      <td>RK</td>\n",
       "      <td>Studio Apartment</td>\n",
       "      <td>Wadgaon Sheri</td>\n",
       "      <td>7,000</td>\n",
       "      <td>350</td>\n",
       "      <td>Unfurnished</td>\n",
       "      <td>1 bathrooms</td>\n",
       "    </tr>\n",
       "    <tr>\n",
       "      <th>22797</th>\n",
       "      <td>OWNER</td>\n",
       "      <td>1</td>\n",
       "      <td>BHK</td>\n",
       "      <td>Apartment</td>\n",
       "      <td>Kothrud</td>\n",
       "      <td>8,500</td>\n",
       "      <td>389</td>\n",
       "      <td>Semi-Furnished</td>\n",
       "      <td>1 bathrooms</td>\n",
       "    </tr>\n",
       "    <tr>\n",
       "      <th>22798</th>\n",
       "      <td>AGENT</td>\n",
       "      <td>1</td>\n",
       "      <td>BHK</td>\n",
       "      <td>Apartment</td>\n",
       "      <td>Wakad</td>\n",
       "      <td>16,500</td>\n",
       "      <td>670</td>\n",
       "      <td>Semi-Furnished</td>\n",
       "      <td>2 bathrooms</td>\n",
       "    </tr>\n",
       "    <tr>\n",
       "      <th>22799</th>\n",
       "      <td>AGENT</td>\n",
       "      <td>2</td>\n",
       "      <td>BHK</td>\n",
       "      <td>Apartment</td>\n",
       "      <td>Alandi</td>\n",
       "      <td>12,000</td>\n",
       "      <td>800</td>\n",
       "      <td>Unfurnished</td>\n",
       "      <td>2 bathrooms</td>\n",
       "    </tr>\n",
       "  </tbody>\n",
       "</table>\n",
       "<p>14425 rows × 9 columns</p>\n",
       "</div>"
      ],
      "text/plain": [
       "      seller_type  bedroom layout_type      property_type       locality  \\\n",
       "0           OWNER        1         BHK  Independent Floor        Mundhwa   \n",
       "1           OWNER        2         BHK          Apartment          Wakad   \n",
       "2           OWNER        3         BHK          Apartment        Wagholi   \n",
       "3           OWNER        1          RK   Studio Apartment        Kothrud   \n",
       "4           OWNER        2         BHK          Apartment       Yerawada   \n",
       "...           ...      ...         ...                ...            ...   \n",
       "22795       OWNER        1         BHK          Apartment      Chinchwad   \n",
       "22796       OWNER        1          RK   Studio Apartment  Wadgaon Sheri   \n",
       "22797       OWNER        1         BHK          Apartment        Kothrud   \n",
       "22798       AGENT        1         BHK          Apartment          Wakad   \n",
       "22799       AGENT        2         BHK          Apartment         Alandi   \n",
       "\n",
       "        price  area    furnish_type     bathroom  \n",
       "0       6,750   450     Unfurnished  1 bathrooms  \n",
       "1      18,000   916     Unfurnished  2 bathrooms  \n",
       "2      16,500  1085  Semi-Furnished  3 bathrooms  \n",
       "3       8,000   250       Furnished  1 bathrooms  \n",
       "4      25,000  1005  Semi-Furnished  2 bathrooms  \n",
       "...       ...   ...             ...          ...  \n",
       "22795  13,250   650  Semi-Furnished  1 bathrooms  \n",
       "22796   7,000   350     Unfurnished  1 bathrooms  \n",
       "22797   8,500   389  Semi-Furnished  1 bathrooms  \n",
       "22798  16,500   670  Semi-Furnished  2 bathrooms  \n",
       "22799  12,000   800     Unfurnished  2 bathrooms  \n",
       "\n",
       "[14425 rows x 9 columns]"
      ]
     },
     "execution_count": 8,
     "metadata": {},
     "output_type": "execute_result"
    }
   ],
   "source": [
    "Data_new.dropna()"
   ]
  },
  {
   "cell_type": "code",
   "execution_count": 9,
   "id": "0903ae51",
   "metadata": {},
   "outputs": [
    {
     "data": {
      "text/plain": [
       "seller_type        0\n",
       "bedroom            0\n",
       "layout_type        0\n",
       "property_type      0\n",
       "locality           0\n",
       "price              0\n",
       "area               0\n",
       "furnish_type       0\n",
       "bathroom         128\n",
       "dtype: int64"
      ]
     },
     "execution_count": 9,
     "metadata": {},
     "output_type": "execute_result"
    }
   ],
   "source": [
    "Data_new.isnull().sum()"
   ]
  },
  {
   "cell_type": "code",
   "execution_count": 10,
   "id": "ac3c3597",
   "metadata": {},
   "outputs": [
    {
     "data": {
      "text/plain": [
       "(14553, 9)"
      ]
     },
     "execution_count": 10,
     "metadata": {},
     "output_type": "execute_result"
    }
   ],
   "source": [
    "Data_new.shape"
   ]
  },
  {
   "cell_type": "code",
   "execution_count": 11,
   "id": "d1a28aef",
   "metadata": {},
   "outputs": [],
   "source": [
    "Data_new.reset_index(inplace=True)"
   ]
  },
  {
   "cell_type": "code",
   "execution_count": 12,
   "id": "3defa873",
   "metadata": {},
   "outputs": [
    {
     "name": "stdout",
     "output_type": "stream",
     "text": [
      "0        1\n",
      "15766    1\n",
      "15736    1\n",
      "15737    1\n",
      "15738    1\n",
      "        ..\n",
      "9042     1\n",
      "9043     1\n",
      "9044     1\n",
      "9046     1\n",
      "22799    1\n",
      "Name: index, Length: 14553, dtype: int64\n",
      "AGENT      9915\n",
      "OWNER      4262\n",
      "BUILDER     376\n",
      "Name: seller_type, dtype: int64\n",
      "2    6768\n",
      "1    5048\n",
      "3    2312\n",
      "4     383\n",
      "5      38\n",
      "6       3\n",
      "8       1\n",
      "Name: bedroom, dtype: int64\n",
      "BHK    13811\n",
      "RK       742\n",
      "Name: layout_type, dtype: int64\n",
      "Apartment            12755\n",
      "Studio Apartment       742\n",
      "Independent House      616\n",
      "Independent Floor      251\n",
      "Villa                  179\n",
      "Penthouse               10\n",
      "Name: property_type, dtype: int64\n",
      "Wagholi                      1218\n",
      "Kharadi                       834\n",
      "Wakad                         795\n",
      "Hinjewadi                     788\n",
      "Hadapsar                      709\n",
      "                             ... \n",
      "New DP Road                     1\n",
      "Murlidhar Housing Society       1\n",
      "Pan Card Club Road              1\n",
      "Pratibha Nagar                  1\n",
      "Aundh Gaon                      1\n",
      "Name: locality, Length: 459, dtype: int64\n",
      "15,000    780\n",
      "20,000    684\n",
      "18,000    676\n",
      "12,000    672\n",
      "16,000    582\n",
      "         ... \n",
      "4,875       1\n",
      "20,900      1\n",
      "4,100       1\n",
      "17,710      1\n",
      "13,250      1\n",
      "Name: price, Length: 497, dtype: int64\n",
      "1000    591\n",
      "650     570\n",
      "600     552\n",
      "1200    472\n",
      "1100    401\n",
      "       ... \n",
      "1615      1\n",
      "674       1\n",
      "569       1\n",
      "693       1\n",
      "389       1\n",
      "Name: area, Length: 1275, dtype: int64\n",
      "Unfurnished       6147\n",
      "Semi-Furnished    5735\n",
      "Furnished         2671\n",
      "Name: furnish_type, dtype: int64\n",
      "2 bathrooms         7097\n",
      "1 bathrooms         4800\n",
      "3 bathrooms         2042\n",
      "4 bathrooms          350\n",
      "5 bathrooms           93\n",
      "East facing           13\n",
      "6 bathrooms           12\n",
      "West facing            6\n",
      "Grfloor                4\n",
      "North facing           2\n",
      "1 of 2floor            2\n",
      "NorthEast facing       1\n",
      "11 of 11floor          1\n",
      "8 bathrooms            1\n",
      "1 of 3floor            1\n",
      "Name: bathroom, dtype: int64\n"
     ]
    }
   ],
   "source": [
    "for i in Data_new:\n",
    "    print(Data_new[i].value_counts())"
   ]
  },
  {
   "cell_type": "code",
   "execution_count": 13,
   "id": "6e7c5906",
   "metadata": {},
   "outputs": [
    {
     "data": {
      "text/plain": [
       "30"
      ]
     },
     "execution_count": 13,
     "metadata": {},
     "output_type": "execute_result"
    }
   ],
   "source": [
    "\n",
    "inde=set( )\n",
    "y=['East facing','West facing','Grfloor','North facing','1 of 2floor','NorthEast facing','11 of 11floor','1 of 3floor']\n",
    "for i in range(len(Data_new['bathroom'])):\n",
    "    x=Data_new['bathroom'].iloc[i]\n",
    "    if (x in y ):\n",
    "        #print(x)\n",
    "        #print(i)\n",
    "        inde.add(i)        \n",
    "inde=list(inde)\n",
    "len(inde)\n",
    "\n",
    "            \n",
    "            \n",
    "        \n",
    "                   \n"
   ]
  },
  {
   "cell_type": "code",
   "execution_count": 14,
   "id": "f6d17594",
   "metadata": {},
   "outputs": [],
   "source": [
    "Data_new.drop(inde,axis=0,inplace=True)"
   ]
  },
  {
   "cell_type": "code",
   "execution_count": 15,
   "id": "2358f4f1",
   "metadata": {},
   "outputs": [
    {
     "data": {
      "text/plain": [
       "(14523, 10)"
      ]
     },
     "execution_count": 15,
     "metadata": {},
     "output_type": "execute_result"
    }
   ],
   "source": [
    "Data_new.shape"
   ]
  },
  {
   "cell_type": "code",
   "execution_count": 16,
   "id": "ba7b2d83",
   "metadata": {},
   "outputs": [
    {
     "data": {
      "text/plain": [
       "2 bathrooms    7097\n",
       "1 bathrooms    4800\n",
       "3 bathrooms    2042\n",
       "4 bathrooms     350\n",
       "5 bathrooms      93\n",
       "6 bathrooms      12\n",
       "8 bathrooms       1\n",
       "Name: bathroom, dtype: int64"
      ]
     },
     "execution_count": 16,
     "metadata": {},
     "output_type": "execute_result"
    }
   ],
   "source": [
    "Data_new['bathroom'].value_counts()"
   ]
  },
  {
   "cell_type": "code",
   "execution_count": 17,
   "id": "6dda9d2b",
   "metadata": {},
   "outputs": [
    {
     "data": {
      "text/plain": [
       "index              0\n",
       "seller_type        0\n",
       "bedroom            0\n",
       "layout_type        0\n",
       "property_type      0\n",
       "locality           0\n",
       "price              0\n",
       "area               0\n",
       "furnish_type       0\n",
       "bathroom         128\n",
       "dtype: int64"
      ]
     },
     "execution_count": 17,
     "metadata": {},
     "output_type": "execute_result"
    }
   ],
   "source": [
    "Data_new.isnull().sum()"
   ]
  },
  {
   "cell_type": "code",
   "execution_count": 18,
   "id": "455dd198",
   "metadata": {},
   "outputs": [],
   "source": [
    "Data_new.dropna(inplace=True)"
   ]
  },
  {
   "cell_type": "code",
   "execution_count": 19,
   "id": "424a30ad",
   "metadata": {},
   "outputs": [
    {
     "name": "stdout",
     "output_type": "stream",
     "text": [
      "index            0\n",
      "seller_type      0\n",
      "bedroom          0\n",
      "layout_type      0\n",
      "property_type    0\n",
      "locality         0\n",
      "price            0\n",
      "area             0\n",
      "furnish_type     0\n",
      "bathroom         0\n",
      "dtype: int64\n",
      "(14395, 10)\n"
     ]
    }
   ],
   "source": [
    "print(Data_new.isnull().sum())\n",
    "print(Data_new.shape)\n"
   ]
  },
  {
   "cell_type": "code",
   "execution_count": 20,
   "id": "42beef4d",
   "metadata": {},
   "outputs": [
    {
     "data": {
      "text/plain": [
       "Index(['index', 'seller_type', 'bedroom', 'layout_type', 'property_type',\n",
       "       'locality', 'price', 'area', 'furnish_type', 'bathroom'],\n",
       "      dtype='object')"
      ]
     },
     "execution_count": 20,
     "metadata": {},
     "output_type": "execute_result"
    }
   ],
   "source": [
    "Data_new.columns"
   ]
  },
  {
   "cell_type": "markdown",
   "id": "6fd90648",
   "metadata": {},
   "source": [
    "# Outlier"
   ]
  },
  {
   "cell_type": "code",
   "execution_count": 21,
   "id": "7cac7589",
   "metadata": {},
   "outputs": [],
   "source": [
    "lit=[]\n",
    "for i in (Data_new['price']):\n",
    "    if (','in i):\n",
    "        l=i.split(',')\n",
    "        L=l[0]+l[1]\n",
    "        lit.append(float(L))\n",
    "    else:\n",
    "        lit.append(float(i))\n"
   ]
  },
  {
   "cell_type": "code",
   "execution_count": 22,
   "id": "4abfc688",
   "metadata": {},
   "outputs": [
    {
     "data": {
      "text/plain": [
       "14395"
      ]
     },
     "execution_count": 22,
     "metadata": {},
     "output_type": "execute_result"
    }
   ],
   "source": [
    "len(lit)"
   ]
  },
  {
   "cell_type": "code",
   "execution_count": 23,
   "id": "7b25f912",
   "metadata": {},
   "outputs": [
    {
     "data": {
      "text/html": [
       "<div>\n",
       "<style scoped>\n",
       "    .dataframe tbody tr th:only-of-type {\n",
       "        vertical-align: middle;\n",
       "    }\n",
       "\n",
       "    .dataframe tbody tr th {\n",
       "        vertical-align: top;\n",
       "    }\n",
       "\n",
       "    .dataframe thead th {\n",
       "        text-align: right;\n",
       "    }\n",
       "</style>\n",
       "<table border=\"1\" class=\"dataframe\">\n",
       "  <thead>\n",
       "    <tr style=\"text-align: right;\">\n",
       "      <th></th>\n",
       "      <th>index</th>\n",
       "      <th>seller_type</th>\n",
       "      <th>bedroom</th>\n",
       "      <th>layout_type</th>\n",
       "      <th>property_type</th>\n",
       "      <th>locality</th>\n",
       "      <th>price</th>\n",
       "      <th>area</th>\n",
       "      <th>furnish_type</th>\n",
       "      <th>bathroom</th>\n",
       "    </tr>\n",
       "  </thead>\n",
       "  <tbody>\n",
       "    <tr>\n",
       "      <th>0</th>\n",
       "      <td>0</td>\n",
       "      <td>OWNER</td>\n",
       "      <td>1</td>\n",
       "      <td>BHK</td>\n",
       "      <td>Independent Floor</td>\n",
       "      <td>Mundhwa</td>\n",
       "      <td>6,750</td>\n",
       "      <td>450</td>\n",
       "      <td>Unfurnished</td>\n",
       "      <td>1 bathrooms</td>\n",
       "    </tr>\n",
       "    <tr>\n",
       "      <th>1</th>\n",
       "      <td>1</td>\n",
       "      <td>OWNER</td>\n",
       "      <td>2</td>\n",
       "      <td>BHK</td>\n",
       "      <td>Apartment</td>\n",
       "      <td>Wakad</td>\n",
       "      <td>18,000</td>\n",
       "      <td>916</td>\n",
       "      <td>Unfurnished</td>\n",
       "      <td>2 bathrooms</td>\n",
       "    </tr>\n",
       "    <tr>\n",
       "      <th>2</th>\n",
       "      <td>2</td>\n",
       "      <td>OWNER</td>\n",
       "      <td>3</td>\n",
       "      <td>BHK</td>\n",
       "      <td>Apartment</td>\n",
       "      <td>Wagholi</td>\n",
       "      <td>16,500</td>\n",
       "      <td>1085</td>\n",
       "      <td>Semi-Furnished</td>\n",
       "      <td>3 bathrooms</td>\n",
       "    </tr>\n",
       "    <tr>\n",
       "      <th>3</th>\n",
       "      <td>3</td>\n",
       "      <td>OWNER</td>\n",
       "      <td>1</td>\n",
       "      <td>RK</td>\n",
       "      <td>Studio Apartment</td>\n",
       "      <td>Kothrud</td>\n",
       "      <td>8,000</td>\n",
       "      <td>250</td>\n",
       "      <td>Furnished</td>\n",
       "      <td>1 bathrooms</td>\n",
       "    </tr>\n",
       "    <tr>\n",
       "      <th>4</th>\n",
       "      <td>4</td>\n",
       "      <td>OWNER</td>\n",
       "      <td>2</td>\n",
       "      <td>BHK</td>\n",
       "      <td>Apartment</td>\n",
       "      <td>Yerawada</td>\n",
       "      <td>25,000</td>\n",
       "      <td>1005</td>\n",
       "      <td>Semi-Furnished</td>\n",
       "      <td>2 bathrooms</td>\n",
       "    </tr>\n",
       "    <tr>\n",
       "      <th>...</th>\n",
       "      <td>...</td>\n",
       "      <td>...</td>\n",
       "      <td>...</td>\n",
       "      <td>...</td>\n",
       "      <td>...</td>\n",
       "      <td>...</td>\n",
       "      <td>...</td>\n",
       "      <td>...</td>\n",
       "      <td>...</td>\n",
       "      <td>...</td>\n",
       "    </tr>\n",
       "    <tr>\n",
       "      <th>14548</th>\n",
       "      <td>22795</td>\n",
       "      <td>OWNER</td>\n",
       "      <td>1</td>\n",
       "      <td>BHK</td>\n",
       "      <td>Apartment</td>\n",
       "      <td>Chinchwad</td>\n",
       "      <td>13,250</td>\n",
       "      <td>650</td>\n",
       "      <td>Semi-Furnished</td>\n",
       "      <td>1 bathrooms</td>\n",
       "    </tr>\n",
       "    <tr>\n",
       "      <th>14549</th>\n",
       "      <td>22796</td>\n",
       "      <td>OWNER</td>\n",
       "      <td>1</td>\n",
       "      <td>RK</td>\n",
       "      <td>Studio Apartment</td>\n",
       "      <td>Wadgaon Sheri</td>\n",
       "      <td>7,000</td>\n",
       "      <td>350</td>\n",
       "      <td>Unfurnished</td>\n",
       "      <td>1 bathrooms</td>\n",
       "    </tr>\n",
       "    <tr>\n",
       "      <th>14550</th>\n",
       "      <td>22797</td>\n",
       "      <td>OWNER</td>\n",
       "      <td>1</td>\n",
       "      <td>BHK</td>\n",
       "      <td>Apartment</td>\n",
       "      <td>Kothrud</td>\n",
       "      <td>8,500</td>\n",
       "      <td>389</td>\n",
       "      <td>Semi-Furnished</td>\n",
       "      <td>1 bathrooms</td>\n",
       "    </tr>\n",
       "    <tr>\n",
       "      <th>14551</th>\n",
       "      <td>22798</td>\n",
       "      <td>AGENT</td>\n",
       "      <td>1</td>\n",
       "      <td>BHK</td>\n",
       "      <td>Apartment</td>\n",
       "      <td>Wakad</td>\n",
       "      <td>16,500</td>\n",
       "      <td>670</td>\n",
       "      <td>Semi-Furnished</td>\n",
       "      <td>2 bathrooms</td>\n",
       "    </tr>\n",
       "    <tr>\n",
       "      <th>14552</th>\n",
       "      <td>22799</td>\n",
       "      <td>AGENT</td>\n",
       "      <td>2</td>\n",
       "      <td>BHK</td>\n",
       "      <td>Apartment</td>\n",
       "      <td>Alandi</td>\n",
       "      <td>12,000</td>\n",
       "      <td>800</td>\n",
       "      <td>Unfurnished</td>\n",
       "      <td>2 bathrooms</td>\n",
       "    </tr>\n",
       "  </tbody>\n",
       "</table>\n",
       "<p>14395 rows × 10 columns</p>\n",
       "</div>"
      ],
      "text/plain": [
       "       index seller_type  bedroom layout_type      property_type  \\\n",
       "0          0       OWNER        1         BHK  Independent Floor   \n",
       "1          1       OWNER        2         BHK          Apartment   \n",
       "2          2       OWNER        3         BHK          Apartment   \n",
       "3          3       OWNER        1          RK   Studio Apartment   \n",
       "4          4       OWNER        2         BHK          Apartment   \n",
       "...      ...         ...      ...         ...                ...   \n",
       "14548  22795       OWNER        1         BHK          Apartment   \n",
       "14549  22796       OWNER        1          RK   Studio Apartment   \n",
       "14550  22797       OWNER        1         BHK          Apartment   \n",
       "14551  22798       AGENT        1         BHK          Apartment   \n",
       "14552  22799       AGENT        2         BHK          Apartment   \n",
       "\n",
       "            locality   price  area    furnish_type     bathroom  \n",
       "0            Mundhwa   6,750   450     Unfurnished  1 bathrooms  \n",
       "1              Wakad  18,000   916     Unfurnished  2 bathrooms  \n",
       "2            Wagholi  16,500  1085  Semi-Furnished  3 bathrooms  \n",
       "3            Kothrud   8,000   250       Furnished  1 bathrooms  \n",
       "4           Yerawada  25,000  1005  Semi-Furnished  2 bathrooms  \n",
       "...              ...     ...   ...             ...          ...  \n",
       "14548      Chinchwad  13,250   650  Semi-Furnished  1 bathrooms  \n",
       "14549  Wadgaon Sheri   7,000   350     Unfurnished  1 bathrooms  \n",
       "14550        Kothrud   8,500   389  Semi-Furnished  1 bathrooms  \n",
       "14551          Wakad  16,500   670  Semi-Furnished  2 bathrooms  \n",
       "14552         Alandi  12,000   800     Unfurnished  2 bathrooms  \n",
       "\n",
       "[14395 rows x 10 columns]"
      ]
     },
     "execution_count": 23,
     "metadata": {},
     "output_type": "execute_result"
    }
   ],
   "source": [
    "Data_new"
   ]
  },
  {
   "cell_type": "code",
   "execution_count": 24,
   "id": "583814d1",
   "metadata": {},
   "outputs": [],
   "source": [
    "Data_new['price']=lit"
   ]
  },
  {
   "cell_type": "code",
   "execution_count": 25,
   "id": "161fade0",
   "metadata": {},
   "outputs": [
    {
     "data": {
      "text/plain": [
       "index            False\n",
       "seller_type      False\n",
       "bedroom          False\n",
       "layout_type      False\n",
       "property_type    False\n",
       "locality         False\n",
       "price            False\n",
       "area             False\n",
       "furnish_type     False\n",
       "bathroom         False\n",
       "dtype: bool"
      ]
     },
     "execution_count": 25,
     "metadata": {},
     "output_type": "execute_result"
    }
   ],
   "source": [
    "Data_new.isnull().any()"
   ]
  },
  {
   "cell_type": "code",
   "execution_count": 26,
   "id": "cac9ac4b",
   "metadata": {},
   "outputs": [],
   "source": [
    "outlier=Data_new[Data_new['price']<33000]"
   ]
  },
  {
   "cell_type": "code",
   "execution_count": 27,
   "id": "f1dc7a50",
   "metadata": {},
   "outputs": [
    {
     "data": {
      "text/plain": [
       "<AxesSubplot:xlabel='price'>"
      ]
     },
     "execution_count": 27,
     "metadata": {},
     "output_type": "execute_result"
    },
    {
     "data": {
      "image/png": "[encoded data removed]",
      "text/plain": [
       "<Figure size 432x288 with 1 Axes>"
      ]
     },
     "metadata": {
      "needs_background": "light"
     },
     "output_type": "display_data"
    }
   ],
   "source": [
    "sns.boxplot(outlier['price'])"
   ]
  },
  {
   "cell_type": "code",
   "execution_count": 28,
   "id": "5e4dad77",
   "metadata": {},
   "outputs": [
    {
     "data": {
      "text/plain": [
       "(13085, 10)"
      ]
     },
     "execution_count": 28,
     "metadata": {},
     "output_type": "execute_result"
    }
   ],
   "source": [
    "outlier.shape"
   ]
  },
  {
   "cell_type": "code",
   "execution_count": 29,
   "id": "0d0f0254",
   "metadata": {},
   "outputs": [
    {
     "data": {
      "text/plain": [
       "9.100382077110106"
      ]
     },
     "execution_count": 29,
     "metadata": {},
     "output_type": "execute_result"
    }
   ],
   "source": [
    "Outlier_percentage=((Data_new.shape[0]-outlier.shape[0])/Data_new.shape[0]*100)\n",
    "Outlier_percentage"
   ]
  },
  {
   "cell_type": "code",
   "execution_count": 30,
   "id": "73c2cac6",
   "metadata": {},
   "outputs": [
    {
     "data": {
      "text/html": [
       "<div>\n",
       "<style scoped>\n",
       "    .dataframe tbody tr th:only-of-type {\n",
       "        vertical-align: middle;\n",
       "    }\n",
       "\n",
       "    .dataframe tbody tr th {\n",
       "        vertical-align: top;\n",
       "    }\n",
       "\n",
       "    .dataframe thead th {\n",
       "        text-align: right;\n",
       "    }\n",
       "</style>\n",
       "<table border=\"1\" class=\"dataframe\">\n",
       "  <thead>\n",
       "    <tr style=\"text-align: right;\">\n",
       "      <th></th>\n",
       "      <th>index</th>\n",
       "      <th>seller_type</th>\n",
       "      <th>bedroom</th>\n",
       "      <th>layout_type</th>\n",
       "      <th>property_type</th>\n",
       "      <th>locality</th>\n",
       "      <th>price</th>\n",
       "      <th>area</th>\n",
       "      <th>furnish_type</th>\n",
       "      <th>bathroom</th>\n",
       "    </tr>\n",
       "  </thead>\n",
       "  <tbody>\n",
       "    <tr>\n",
       "      <th>0</th>\n",
       "      <td>0</td>\n",
       "      <td>OWNER</td>\n",
       "      <td>1</td>\n",
       "      <td>BHK</td>\n",
       "      <td>Independent Floor</td>\n",
       "      <td>Mundhwa</td>\n",
       "      <td>6750.0</td>\n",
       "      <td>450</td>\n",
       "      <td>Unfurnished</td>\n",
       "      <td>1 bathrooms</td>\n",
       "    </tr>\n",
       "  </tbody>\n",
       "</table>\n",
       "</div>"
      ],
      "text/plain": [
       "   index seller_type  bedroom layout_type      property_type locality   price  \\\n",
       "0      0       OWNER        1         BHK  Independent Floor  Mundhwa  6750.0   \n",
       "\n",
       "   area furnish_type     bathroom  \n",
       "0   450  Unfurnished  1 bathrooms  "
      ]
     },
     "execution_count": 30,
     "metadata": {},
     "output_type": "execute_result"
    }
   ],
   "source": [
    "outlier.head(1)"
   ]
  },
  {
   "cell_type": "code",
   "execution_count": 31,
   "id": "29b252e7",
   "metadata": {},
   "outputs": [],
   "source": [
    "outlier.drop('index',axis=1,inplace=True)"
   ]
  },
  {
   "cell_type": "code",
   "execution_count": 32,
   "id": "667438ac",
   "metadata": {},
   "outputs": [
    {
     "data": {
      "text/plain": [
       "seller_type      0\n",
       "bedroom          0\n",
       "layout_type      0\n",
       "property_type    0\n",
       "locality         0\n",
       "price            0\n",
       "area             0\n",
       "furnish_type     0\n",
       "bathroom         0\n",
       "dtype: int64"
      ]
     },
     "execution_count": 32,
     "metadata": {},
     "output_type": "execute_result"
    }
   ],
   "source": [
    "outlier.isnull().sum()"
   ]
  },
  {
   "cell_type": "code",
   "execution_count": 33,
   "id": "05ea25bb",
   "metadata": {},
   "outputs": [
    {
     "data": {
      "text/plain": [
       "(13085, 9)"
      ]
     },
     "execution_count": 33,
     "metadata": {},
     "output_type": "execute_result"
    }
   ],
   "source": [
    "outlier.shape"
   ]
  },
  {
   "cell_type": "code",
   "execution_count": 34,
   "id": "136e5008",
   "metadata": {},
   "outputs": [
    {
     "name": "stdout",
     "output_type": "stream",
     "text": [
      "AGENT      8623\n",
      "OWNER      4107\n",
      "BUILDER     355\n",
      "Name: seller_type, dtype: int64\n",
      "2    6446\n",
      "1    4955\n",
      "3    1516\n",
      "4     146\n",
      "5      21\n",
      "6       1\n",
      "Name: bedroom, dtype: int64\n",
      "BHK    12377\n",
      "RK       708\n",
      "Name: layout_type, dtype: int64\n",
      "Apartment            11474\n",
      "Studio Apartment       708\n",
      "Independent House      549\n",
      "Independent Floor      240\n",
      "Villa                  109\n",
      "Penthouse                5\n",
      "Name: property_type, dtype: int64\n"
     ]
    }
   ],
   "source": [
    "print(outlier['seller_type'].value_counts())\n",
    "print(outlier['bedroom'].value_counts())\n",
    "print(outlier['layout_type'].value_counts())\n",
    "print(outlier['property_type'].value_counts())"
   ]
  },
  {
   "cell_type": "markdown",
   "id": "40d20b48",
   "metadata": {},
   "source": [
    "# Encoding_technique"
   ]
  },
  {
   "cell_type": "code",
   "execution_count": 35,
   "id": "f7eeb009",
   "metadata": {},
   "outputs": [
    {
     "data": {
      "text/html": [
       "<div>\n",
       "<style scoped>\n",
       "    .dataframe tbody tr th:only-of-type {\n",
       "        vertical-align: middle;\n",
       "    }\n",
       "\n",
       "    .dataframe tbody tr th {\n",
       "        vertical-align: top;\n",
       "    }\n",
       "\n",
       "    .dataframe thead th {\n",
       "        text-align: right;\n",
       "    }\n",
       "</style>\n",
       "<table border=\"1\" class=\"dataframe\">\n",
       "  <thead>\n",
       "    <tr style=\"text-align: right;\">\n",
       "      <th></th>\n",
       "      <th>seller_type</th>\n",
       "      <th>bedroom</th>\n",
       "      <th>layout_type</th>\n",
       "      <th>property_type</th>\n",
       "      <th>locality</th>\n",
       "      <th>price</th>\n",
       "      <th>area</th>\n",
       "      <th>furnish_type</th>\n",
       "      <th>bathroom</th>\n",
       "    </tr>\n",
       "  </thead>\n",
       "  <tbody>\n",
       "    <tr>\n",
       "      <th>0</th>\n",
       "      <td>OWNER</td>\n",
       "      <td>1</td>\n",
       "      <td>BHK</td>\n",
       "      <td>Independent Floor</td>\n",
       "      <td>Mundhwa</td>\n",
       "      <td>6750.0</td>\n",
       "      <td>450</td>\n",
       "      <td>Unfurnished</td>\n",
       "      <td>1 bathrooms</td>\n",
       "    </tr>\n",
       "    <tr>\n",
       "      <th>1</th>\n",
       "      <td>OWNER</td>\n",
       "      <td>2</td>\n",
       "      <td>BHK</td>\n",
       "      <td>Apartment</td>\n",
       "      <td>Wakad</td>\n",
       "      <td>18000.0</td>\n",
       "      <td>916</td>\n",
       "      <td>Unfurnished</td>\n",
       "      <td>2 bathrooms</td>\n",
       "    </tr>\n",
       "  </tbody>\n",
       "</table>\n",
       "</div>"
      ],
      "text/plain": [
       "  seller_type  bedroom layout_type      property_type locality    price  area  \\\n",
       "0       OWNER        1         BHK  Independent Floor  Mundhwa   6750.0   450   \n",
       "1       OWNER        2         BHK          Apartment    Wakad  18000.0   916   \n",
       "\n",
       "  furnish_type     bathroom  \n",
       "0  Unfurnished  1 bathrooms  \n",
       "1  Unfurnished  2 bathrooms  "
      ]
     },
     "execution_count": 35,
     "metadata": {},
     "output_type": "execute_result"
    }
   ],
   "source": [
    "outlier.head(2)"
   ]
  },
  {
   "cell_type": "code",
   "execution_count": 36,
   "id": "508e3931",
   "metadata": {},
   "outputs": [],
   "source": [
    "ONE=outlier.drop(['price','area'],axis=1)"
   ]
  },
  {
   "cell_type": "code",
   "execution_count": 37,
   "id": "3d36bff0",
   "metadata": {},
   "outputs": [],
   "source": [
    "ONE=pd.get_dummies(ONE,drop_first=True)"
   ]
  },
  {
   "cell_type": "code",
   "execution_count": 38,
   "id": "8e18bfce",
   "metadata": {},
   "outputs": [
    {
     "data": {
      "text/plain": [
       "(13085, 463)"
      ]
     },
     "execution_count": 38,
     "metadata": {},
     "output_type": "execute_result"
    }
   ],
   "source": [
    "ONE.shape"
   ]
  },
  {
   "cell_type": "code",
   "execution_count": 39,
   "id": "84bd3541",
   "metadata": {},
   "outputs": [
    {
     "data": {
      "text/plain": [
       "bedroom                            0\n",
       "seller_type_BUILDER                0\n",
       "seller_type_OWNER                  0\n",
       "layout_type_RK                     0\n",
       "property_type_Independent Floor    0\n",
       "                                  ..\n",
       "bathroom_3 bathrooms               0\n",
       "bathroom_4 bathrooms               0\n",
       "bathroom_5 bathrooms               0\n",
       "bathroom_6 bathrooms               0\n",
       "bathroom_8 bathrooms               0\n",
       "Length: 463, dtype: int64"
      ]
     },
     "execution_count": 39,
     "metadata": {},
     "output_type": "execute_result"
    }
   ],
   "source": [
    "ONE.reset_index(inplace=True,drop=True)\n",
    "ONE\n",
    "ONE.isnull().sum()"
   ]
  },
  {
   "cell_type": "code",
   "execution_count": 40,
   "id": "e1f10c83",
   "metadata": {},
   "outputs": [
    {
     "data": {
      "text/plain": [
       "seller_type      0\n",
       "bedroom          0\n",
       "layout_type      0\n",
       "property_type    0\n",
       "locality         0\n",
       "price            0\n",
       "area             0\n",
       "furnish_type     0\n",
       "bathroom         0\n",
       "dtype: int64"
      ]
     },
     "execution_count": 40,
     "metadata": {},
     "output_type": "execute_result"
    }
   ],
   "source": [
    "outlier.isnull().sum()"
   ]
  },
  {
   "cell_type": "code",
   "execution_count": 41,
   "id": "2e6e2e40",
   "metadata": {},
   "outputs": [],
   "source": [
    "#L=LabelEncoder()\n",
    "#La=L.fit_transform(Label)\n",
    "#La=pd.DataFrame(La,columns=['Locality'])\n",
    "#La.reset_index(inplace=True,drop=True)\n",
    "#print(La.isnull().sum())\n",
    "#La"
   ]
  },
  {
   "cell_type": "code",
   "execution_count": 42,
   "id": "036d879b",
   "metadata": {},
   "outputs": [
    {
     "data": {
      "text/plain": [
       "(13085,)"
      ]
     },
     "execution_count": 42,
     "metadata": {},
     "output_type": "execute_result"
    }
   ],
   "source": [
    "value=outlier['area']\n",
    "value.reset_index(drop=True,inplace=True)\n",
    "value.shape"
   ]
  },
  {
   "cell_type": "code",
   "execution_count": 43,
   "id": "030b5362",
   "metadata": {
    "scrolled": false
   },
   "outputs": [
    {
     "data": {
      "text/html": [
       "<div>\n",
       "<style scoped>\n",
       "    .dataframe tbody tr th:only-of-type {\n",
       "        vertical-align: middle;\n",
       "    }\n",
       "\n",
       "    .dataframe tbody tr th {\n",
       "        vertical-align: top;\n",
       "    }\n",
       "\n",
       "    .dataframe thead th {\n",
       "        text-align: right;\n",
       "    }\n",
       "</style>\n",
       "<table border=\"1\" class=\"dataframe\">\n",
       "  <thead>\n",
       "    <tr style=\"text-align: right;\">\n",
       "      <th></th>\n",
       "      <th>area</th>\n",
       "      <th>bedroom</th>\n",
       "      <th>seller_type_BUILDER</th>\n",
       "      <th>seller_type_OWNER</th>\n",
       "      <th>layout_type_RK</th>\n",
       "      <th>property_type_Independent Floor</th>\n",
       "      <th>property_type_Independent House</th>\n",
       "      <th>property_type_Penthouse</th>\n",
       "      <th>property_type_Studio Apartment</th>\n",
       "      <th>property_type_Villa</th>\n",
       "      <th>...</th>\n",
       "      <th>locality_mandai</th>\n",
       "      <th>locality_wadebolhai</th>\n",
       "      <th>furnish_type_Semi-Furnished</th>\n",
       "      <th>furnish_type_Unfurnished</th>\n",
       "      <th>bathroom_2 bathrooms</th>\n",
       "      <th>bathroom_3 bathrooms</th>\n",
       "      <th>bathroom_4 bathrooms</th>\n",
       "      <th>bathroom_5 bathrooms</th>\n",
       "      <th>bathroom_6 bathrooms</th>\n",
       "      <th>bathroom_8 bathrooms</th>\n",
       "    </tr>\n",
       "  </thead>\n",
       "  <tbody>\n",
       "    <tr>\n",
       "      <th>0</th>\n",
       "      <td>450</td>\n",
       "      <td>1</td>\n",
       "      <td>0</td>\n",
       "      <td>1</td>\n",
       "      <td>0</td>\n",
       "      <td>1</td>\n",
       "      <td>0</td>\n",
       "      <td>0</td>\n",
       "      <td>0</td>\n",
       "      <td>0</td>\n",
       "      <td>...</td>\n",
       "      <td>0</td>\n",
       "      <td>0</td>\n",
       "      <td>0</td>\n",
       "      <td>1</td>\n",
       "      <td>0</td>\n",
       "      <td>0</td>\n",
       "      <td>0</td>\n",
       "      <td>0</td>\n",
       "      <td>0</td>\n",
       "      <td>0</td>\n",
       "    </tr>\n",
       "    <tr>\n",
       "      <th>1</th>\n",
       "      <td>916</td>\n",
       "      <td>2</td>\n",
       "      <td>0</td>\n",
       "      <td>1</td>\n",
       "      <td>0</td>\n",
       "      <td>0</td>\n",
       "      <td>0</td>\n",
       "      <td>0</td>\n",
       "      <td>0</td>\n",
       "      <td>0</td>\n",
       "      <td>...</td>\n",
       "      <td>0</td>\n",
       "      <td>0</td>\n",
       "      <td>0</td>\n",
       "      <td>1</td>\n",
       "      <td>1</td>\n",
       "      <td>0</td>\n",
       "      <td>0</td>\n",
       "      <td>0</td>\n",
       "      <td>0</td>\n",
       "      <td>0</td>\n",
       "    </tr>\n",
       "    <tr>\n",
       "      <th>2</th>\n",
       "      <td>1085</td>\n",
       "      <td>3</td>\n",
       "      <td>0</td>\n",
       "      <td>1</td>\n",
       "      <td>0</td>\n",
       "      <td>0</td>\n",
       "      <td>0</td>\n",
       "      <td>0</td>\n",
       "      <td>0</td>\n",
       "      <td>0</td>\n",
       "      <td>...</td>\n",
       "      <td>0</td>\n",
       "      <td>0</td>\n",
       "      <td>1</td>\n",
       "      <td>0</td>\n",
       "      <td>0</td>\n",
       "      <td>1</td>\n",
       "      <td>0</td>\n",
       "      <td>0</td>\n",
       "      <td>0</td>\n",
       "      <td>0</td>\n",
       "    </tr>\n",
       "    <tr>\n",
       "      <th>3</th>\n",
       "      <td>250</td>\n",
       "      <td>1</td>\n",
       "      <td>0</td>\n",
       "      <td>1</td>\n",
       "      <td>1</td>\n",
       "      <td>0</td>\n",
       "      <td>0</td>\n",
       "      <td>0</td>\n",
       "      <td>1</td>\n",
       "      <td>0</td>\n",
       "      <td>...</td>\n",
       "      <td>0</td>\n",
       "      <td>0</td>\n",
       "      <td>0</td>\n",
       "      <td>0</td>\n",
       "      <td>0</td>\n",
       "      <td>0</td>\n",
       "      <td>0</td>\n",
       "      <td>0</td>\n",
       "      <td>0</td>\n",
       "      <td>0</td>\n",
       "    </tr>\n",
       "    <tr>\n",
       "      <th>4</th>\n",
       "      <td>1005</td>\n",
       "      <td>2</td>\n",
       "      <td>0</td>\n",
       "      <td>1</td>\n",
       "      <td>0</td>\n",
       "      <td>0</td>\n",
       "      <td>0</td>\n",
       "      <td>0</td>\n",
       "      <td>0</td>\n",
       "      <td>0</td>\n",
       "      <td>...</td>\n",
       "      <td>0</td>\n",
       "      <td>0</td>\n",
       "      <td>1</td>\n",
       "      <td>0</td>\n",
       "      <td>1</td>\n",
       "      <td>0</td>\n",
       "      <td>0</td>\n",
       "      <td>0</td>\n",
       "      <td>0</td>\n",
       "      <td>0</td>\n",
       "    </tr>\n",
       "    <tr>\n",
       "      <th>...</th>\n",
       "      <td>...</td>\n",
       "      <td>...</td>\n",
       "      <td>...</td>\n",
       "      <td>...</td>\n",
       "      <td>...</td>\n",
       "      <td>...</td>\n",
       "      <td>...</td>\n",
       "      <td>...</td>\n",
       "      <td>...</td>\n",
       "      <td>...</td>\n",
       "      <td>...</td>\n",
       "      <td>...</td>\n",
       "      <td>...</td>\n",
       "      <td>...</td>\n",
       "      <td>...</td>\n",
       "      <td>...</td>\n",
       "      <td>...</td>\n",
       "      <td>...</td>\n",
       "      <td>...</td>\n",
       "      <td>...</td>\n",
       "      <td>...</td>\n",
       "    </tr>\n",
       "    <tr>\n",
       "      <th>13080</th>\n",
       "      <td>650</td>\n",
       "      <td>1</td>\n",
       "      <td>0</td>\n",
       "      <td>1</td>\n",
       "      <td>0</td>\n",
       "      <td>0</td>\n",
       "      <td>0</td>\n",
       "      <td>0</td>\n",
       "      <td>0</td>\n",
       "      <td>0</td>\n",
       "      <td>...</td>\n",
       "      <td>0</td>\n",
       "      <td>0</td>\n",
       "      <td>1</td>\n",
       "      <td>0</td>\n",
       "      <td>0</td>\n",
       "      <td>0</td>\n",
       "      <td>0</td>\n",
       "      <td>0</td>\n",
       "      <td>0</td>\n",
       "      <td>0</td>\n",
       "    </tr>\n",
       "    <tr>\n",
       "      <th>13081</th>\n",
       "      <td>350</td>\n",
       "      <td>1</td>\n",
       "      <td>0</td>\n",
       "      <td>1</td>\n",
       "      <td>1</td>\n",
       "      <td>0</td>\n",
       "      <td>0</td>\n",
       "      <td>0</td>\n",
       "      <td>1</td>\n",
       "      <td>0</td>\n",
       "      <td>...</td>\n",
       "      <td>0</td>\n",
       "      <td>0</td>\n",
       "      <td>0</td>\n",
       "      <td>1</td>\n",
       "      <td>0</td>\n",
       "      <td>0</td>\n",
       "      <td>0</td>\n",
       "      <td>0</td>\n",
       "      <td>0</td>\n",
       "      <td>0</td>\n",
       "    </tr>\n",
       "    <tr>\n",
       "      <th>13082</th>\n",
       "      <td>389</td>\n",
       "      <td>1</td>\n",
       "      <td>0</td>\n",
       "      <td>1</td>\n",
       "      <td>0</td>\n",
       "      <td>0</td>\n",
       "      <td>0</td>\n",
       "      <td>0</td>\n",
       "      <td>0</td>\n",
       "      <td>0</td>\n",
       "      <td>...</td>\n",
       "      <td>0</td>\n",
       "      <td>0</td>\n",
       "      <td>1</td>\n",
       "      <td>0</td>\n",
       "      <td>0</td>\n",
       "      <td>0</td>\n",
       "      <td>0</td>\n",
       "      <td>0</td>\n",
       "      <td>0</td>\n",
       "      <td>0</td>\n",
       "    </tr>\n",
       "    <tr>\n",
       "      <th>13083</th>\n",
       "      <td>670</td>\n",
       "      <td>1</td>\n",
       "      <td>0</td>\n",
       "      <td>0</td>\n",
       "      <td>0</td>\n",
       "      <td>0</td>\n",
       "      <td>0</td>\n",
       "      <td>0</td>\n",
       "      <td>0</td>\n",
       "      <td>0</td>\n",
       "      <td>...</td>\n",
       "      <td>0</td>\n",
       "      <td>0</td>\n",
       "      <td>1</td>\n",
       "      <td>0</td>\n",
       "      <td>1</td>\n",
       "      <td>0</td>\n",
       "      <td>0</td>\n",
       "      <td>0</td>\n",
       "      <td>0</td>\n",
       "      <td>0</td>\n",
       "    </tr>\n",
       "    <tr>\n",
       "      <th>13084</th>\n",
       "      <td>800</td>\n",
       "      <td>2</td>\n",
       "      <td>0</td>\n",
       "      <td>0</td>\n",
       "      <td>0</td>\n",
       "      <td>0</td>\n",
       "      <td>0</td>\n",
       "      <td>0</td>\n",
       "      <td>0</td>\n",
       "      <td>0</td>\n",
       "      <td>...</td>\n",
       "      <td>0</td>\n",
       "      <td>0</td>\n",
       "      <td>0</td>\n",
       "      <td>1</td>\n",
       "      <td>1</td>\n",
       "      <td>0</td>\n",
       "      <td>0</td>\n",
       "      <td>0</td>\n",
       "      <td>0</td>\n",
       "      <td>0</td>\n",
       "    </tr>\n",
       "  </tbody>\n",
       "</table>\n",
       "<p>13085 rows × 464 columns</p>\n",
       "</div>"
      ],
      "text/plain": [
       "       area  bedroom  seller_type_BUILDER  seller_type_OWNER  layout_type_RK  \\\n",
       "0       450        1                    0                  1               0   \n",
       "1       916        2                    0                  1               0   \n",
       "2      1085        3                    0                  1               0   \n",
       "3       250        1                    0                  1               1   \n",
       "4      1005        2                    0                  1               0   \n",
       "...     ...      ...                  ...                ...             ...   \n",
       "13080   650        1                    0                  1               0   \n",
       "13081   350        1                    0                  1               1   \n",
       "13082   389        1                    0                  1               0   \n",
       "13083   670        1                    0                  0               0   \n",
       "13084   800        2                    0                  0               0   \n",
       "\n",
       "       property_type_Independent Floor  property_type_Independent House  \\\n",
       "0                                    1                                0   \n",
       "1                                    0                                0   \n",
       "2                                    0                                0   \n",
       "3                                    0                                0   \n",
       "4                                    0                                0   \n",
       "...                                ...                              ...   \n",
       "13080                                0                                0   \n",
       "13081                                0                                0   \n",
       "13082                                0                                0   \n",
       "13083                                0                                0   \n",
       "13084                                0                                0   \n",
       "\n",
       "       property_type_Penthouse  property_type_Studio Apartment  \\\n",
       "0                            0                               0   \n",
       "1                            0                               0   \n",
       "2                            0                               0   \n",
       "3                            0                               1   \n",
       "4                            0                               0   \n",
       "...                        ...                             ...   \n",
       "13080                        0                               0   \n",
       "13081                        0                               1   \n",
       "13082                        0                               0   \n",
       "13083                        0                               0   \n",
       "13084                        0                               0   \n",
       "\n",
       "       property_type_Villa  ...  locality_mandai  locality_wadebolhai  \\\n",
       "0                        0  ...                0                    0   \n",
       "1                        0  ...                0                    0   \n",
       "2                        0  ...                0                    0   \n",
       "3                        0  ...                0                    0   \n",
       "4                        0  ...                0                    0   \n",
       "...                    ...  ...              ...                  ...   \n",
       "13080                    0  ...                0                    0   \n",
       "13081                    0  ...                0                    0   \n",
       "13082                    0  ...                0                    0   \n",
       "13083                    0  ...                0                    0   \n",
       "13084                    0  ...                0                    0   \n",
       "\n",
       "       furnish_type_Semi-Furnished  furnish_type_Unfurnished  \\\n",
       "0                                0                         1   \n",
       "1                                0                         1   \n",
       "2                                1                         0   \n",
       "3                                0                         0   \n",
       "4                                1                         0   \n",
       "...                            ...                       ...   \n",
       "13080                            1                         0   \n",
       "13081                            0                         1   \n",
       "13082                            1                         0   \n",
       "13083                            1                         0   \n",
       "13084                            0                         1   \n",
       "\n",
       "       bathroom_2 bathrooms  bathroom_3 bathrooms  bathroom_4 bathrooms  \\\n",
       "0                         0                     0                     0   \n",
       "1                         1                     0                     0   \n",
       "2                         0                     1                     0   \n",
       "3                         0                     0                     0   \n",
       "4                         1                     0                     0   \n",
       "...                     ...                   ...                   ...   \n",
       "13080                     0                     0                     0   \n",
       "13081                     0                     0                     0   \n",
       "13082                     0                     0                     0   \n",
       "13083                     1                     0                     0   \n",
       "13084                     1                     0                     0   \n",
       "\n",
       "       bathroom_5 bathrooms  bathroom_6 bathrooms  bathroom_8 bathrooms  \n",
       "0                         0                     0                     0  \n",
       "1                         0                     0                     0  \n",
       "2                         0                     0                     0  \n",
       "3                         0                     0                     0  \n",
       "4                         0                     0                     0  \n",
       "...                     ...                   ...                   ...  \n",
       "13080                     0                     0                     0  \n",
       "13081                     0                     0                     0  \n",
       "13082                     0                     0                     0  \n",
       "13083                     0                     0                     0  \n",
       "13084                     0                     0                     0  \n",
       "\n",
       "[13085 rows x 464 columns]"
      ]
     },
     "execution_count": 43,
     "metadata": {},
     "output_type": "execute_result"
    }
   ],
   "source": [
    "x=pd.concat([value,ONE],axis=1)\n",
    "x.reset_index(drop=True,inplace=True)\n",
    "x\n"
   ]
  },
  {
   "cell_type": "code",
   "execution_count": 44,
   "id": "61ca3e46",
   "metadata": {},
   "outputs": [
    {
     "data": {
      "text/plain": [
       "area                    0\n",
       "bedroom                 0\n",
       "seller_type_BUILDER     0\n",
       "seller_type_OWNER       0\n",
       "layout_type_RK          0\n",
       "                       ..\n",
       "bathroom_3 bathrooms    0\n",
       "bathroom_4 bathrooms    0\n",
       "bathroom_5 bathrooms    0\n",
       "bathroom_6 bathrooms    0\n",
       "bathroom_8 bathrooms    0\n",
       "Length: 464, dtype: int64"
      ]
     },
     "execution_count": 44,
     "metadata": {},
     "output_type": "execute_result"
    }
   ],
   "source": [
    "x.isnull().sum()"
   ]
  },
  {
   "cell_type": "code",
   "execution_count": 45,
   "id": "02193434",
   "metadata": {},
   "outputs": [
    {
     "data": {
      "text/plain": [
       "0         6750.0\n",
       "1        18000.0\n",
       "2        16500.0\n",
       "3         8000.0\n",
       "4        25000.0\n",
       "          ...   \n",
       "13080    13250.0\n",
       "13081     7000.0\n",
       "13082     8500.0\n",
       "13083    16500.0\n",
       "13084    12000.0\n",
       "Name: price, Length: 13085, dtype: float64"
      ]
     },
     "execution_count": 45,
     "metadata": {},
     "output_type": "execute_result"
    }
   ],
   "source": [
    "y=outlier['price']\n",
    "y.reset_index(drop=True)"
   ]
  },
  {
   "cell_type": "markdown",
   "id": "d00f5e5c",
   "metadata": {},
   "source": [
    "# Feature_selection"
   ]
  },
  {
   "cell_type": "code",
   "execution_count": 46,
   "id": "564b925a",
   "metadata": {},
   "outputs": [
    {
     "data": {
      "text/plain": [
       "<AxesSubplot:>"
      ]
     },
     "execution_count": 46,
     "metadata": {},
     "output_type": "execute_result"
    },
    {
     "data": {
      "image/png": "[encoded data removed]",
      "text/plain": [
       "<Figure size 720x576 with 2 Axes>"
      ]
     },
     "metadata": {
      "needs_background": "light"
     },
     "output_type": "display_data"
    }
   ],
   "source": [
    "x.corr()\n",
    "plt.figure(figsize=(10,8))\n",
    "sns.heatmap(x.corr())"
   ]
  },
  {
   "cell_type": "code",
   "execution_count": 47,
   "id": "310ba982",
   "metadata": {},
   "outputs": [],
   "source": [
    "from sklearn.model_selection import train_test_split"
   ]
  },
  {
   "cell_type": "code",
   "execution_count": 48,
   "id": "088e3213",
   "metadata": {},
   "outputs": [
    {
     "name": "stdout",
     "output_type": "stream",
     "text": [
      "(13085, 464)\n",
      "(13085,)\n"
     ]
    }
   ],
   "source": [
    "print(x.shape)\n",
    "print(y.shape)"
   ]
  },
  {
   "cell_type": "code",
   "execution_count": 49,
   "id": "5a93432a",
   "metadata": {},
   "outputs": [],
   "source": [
    "x_train_s,x_test_shuffle,y_train,y_test_shuffle=train_test_split(x,y,test_size=10)"
   ]
  },
  {
   "cell_type": "code",
   "execution_count": 50,
   "id": "f80ab002",
   "metadata": {},
   "outputs": [],
   "source": [
    "x_train,x_test,y_train,y_test=train_test_split(x,y,train_size=70)"
   ]
  },
  {
   "cell_type": "markdown",
   "id": "259cf531",
   "metadata": {},
   "source": [
    "# RANDOM FOREST REGRESSION"
   ]
  },
  {
   "cell_type": "code",
   "execution_count": 51,
   "id": "4f75d853",
   "metadata": {},
   "outputs": [],
   "source": [
    "from sklearn.ensemble import RandomForestRegressor"
   ]
  },
  {
   "cell_type": "code",
   "execution_count": 52,
   "id": "02cf87cc",
   "metadata": {},
   "outputs": [],
   "source": [
    "Random=RandomForestRegressor()"
   ]
  },
  {
   "cell_type": "code",
   "execution_count": 53,
   "id": "213aba2c",
   "metadata": {},
   "outputs": [
    {
     "data": {
      "text/html": [
       "<style>#sk-container-id-1 {color: black;background-color: white;}#sk-container-id-1 pre{padding: 0;}#sk-container-id-1 div.sk-toggleable {background-color: white;}#sk-container-id-1 label.sk-toggleable__label {cursor: pointer;display: block;width: 100%;margin-bottom: 0;padding: 0.3em;box-sizing: border-box;text-align: center;}#sk-container-id-1 label.sk-toggleable__label-arrow:before {content: \"▸\";float: left;margin-right: 0.25em;color: #696969;}#sk-container-id-1 label.sk-toggleable__label-arrow:hover:before {color: black;}#sk-container-id-1 div.sk-estimator:hover label.sk-toggleable__label-arrow:before {color: black;}#sk-container-id-1 div.sk-toggleable__content {max-height: 0;max-width: 0;overflow: hidden;text-align: left;background-color: #f0f8ff;}#sk-container-id-1 div.sk-toggleable__content pre {margin: 0.2em;color: black;border-radius: 0.25em;background-color: #f0f8ff;}#sk-container-id-1 input.sk-toggleable__control:checked~div.sk-toggleable__content {max-height: 200px;max-width: 100%;overflow: auto;}#sk-container-id-1 input.sk-toggleable__control:checked~label.sk-toggleable__label-arrow:before {content: \"▾\";}#sk-container-id-1 div.sk-estimator input.sk-toggleable__control:checked~label.sk-toggleable__label {background-color: #d4ebff;}#sk-container-id-1 div.sk-label input.sk-toggleable__control:checked~label.sk-toggleable__label {background-color: #d4ebff;}#sk-container-id-1 input.sk-hidden--visually {border: 0;clip: rect(1px 1px 1px 1px);clip: rect(1px, 1px, 1px, 1px);height: 1px;margin: -1px;overflow: hidden;padding: 0;position: absolute;width: 1px;}#sk-container-id-1 div.sk-estimator {font-family: monospace;background-color: #f0f8ff;border: 1px dotted black;border-radius: 0.25em;box-sizing: border-box;margin-bottom: 0.5em;}#sk-container-id-1 div.sk-estimator:hover {background-color: #d4ebff;}#sk-container-id-1 div.sk-parallel-item::after {content: \"\";width: 100%;border-bottom: 1px solid gray;flex-grow: 1;}#sk-container-id-1 div.sk-label:hover label.sk-toggleable__label {background-color: #d4ebff;}#sk-container-id-1 div.sk-serial::before {content: \"\";position: absolute;border-left: 1px solid gray;box-sizing: border-box;top: 0;bottom: 0;left: 50%;z-index: 0;}#sk-container-id-1 div.sk-serial {display: flex;flex-direction: column;align-items: center;background-color: white;padding-right: 0.2em;padding-left: 0.2em;position: relative;}#sk-container-id-1 div.sk-item {position: relative;z-index: 1;}#sk-container-id-1 div.sk-parallel {display: flex;align-items: stretch;justify-content: center;background-color: white;position: relative;}#sk-container-id-1 div.sk-item::before, #sk-container-id-1 div.sk-parallel-item::before {content: \"\";position: absolute;border-left: 1px solid gray;box-sizing: border-box;top: 0;bottom: 0;left: 50%;z-index: -1;}#sk-container-id-1 div.sk-parallel-item {display: flex;flex-direction: column;z-index: 1;position: relative;background-color: white;}#sk-container-id-1 div.sk-parallel-item:first-child::after {align-self: flex-end;width: 50%;}#sk-container-id-1 div.sk-parallel-item:last-child::after {align-self: flex-start;width: 50%;}#sk-container-id-1 div.sk-parallel-item:only-child::after {width: 0;}#sk-container-id-1 div.sk-dashed-wrapped {border: 1px dashed gray;margin: 0 0.4em 0.5em 0.4em;box-sizing: border-box;padding-bottom: 0.4em;background-color: white;}#sk-container-id-1 div.sk-label label {font-family: monospace;font-weight: bold;display: inline-block;line-height: 1.2em;}#sk-container-id-1 div.sk-label-container {text-align: center;}#sk-container-id-1 div.sk-container {/* jupyter's `normalize.less` sets `[hidden] { display: none; }` but bootstrap.min.css set `[hidden] { display: none !important; }` so we also need the `!important` here to be able to override the default hidden behavior on the sphinx rendered scikit-learn.org. See: https://github.com/scikit-learn/scikit-learn/issues/21755 */display: inline-block !important;position: relative;}#sk-container-id-1 div.sk-text-repr-fallback {display: none;}</style><div id=\"sk-container-id-1\" class=\"sk-top-container\"><div class=\"sk-text-repr-fallback\"><pre>RandomForestRegressor()</pre><b>In a Jupyter environment, please rerun this cell to show the HTML representation or trust the notebook. <br />On GitHub, the HTML representation is unable to render, please try loading this page with nbviewer.org.</b></div><div class=\"sk-container\" hidden><div class=\"sk-item\"><div class=\"sk-estimator sk-toggleable\"><input class=\"sk-toggleable__control sk-hidden--visually\" id=\"sk-estimator-id-1\" type=\"checkbox\" checked><label for=\"sk-estimator-id-1\" class=\"sk-toggleable__label sk-toggleable__label-arrow\">RandomForestRegressor</label><div class=\"sk-toggleable__content\"><pre>RandomForestRegressor()</pre></div></div></div></div></div>"
      ],
      "text/plain": [
       "RandomForestRegressor()"
      ]
     },
     "execution_count": 53,
     "metadata": {},
     "output_type": "execute_result"
    }
   ],
   "source": [
    "RFR=Random.fit(x,y)\n",
    "RFR"
   ]
  },
  {
   "cell_type": "code",
   "execution_count": 54,
   "id": "21ca13dd",
   "metadata": {},
   "outputs": [
    {
     "data": {
      "text/plain": [
       "array([22010.        , 15950.4484127 , 17545.        , 12461.08058608,\n",
       "       15716.        , 20649.7972583 , 18654.25333333, 29620.83333333,\n",
       "       10639.425     , 15588.        ])"
      ]
     },
     "execution_count": 54,
     "metadata": {},
     "output_type": "execute_result"
    }
   ],
   "source": [
    "Random.predict(x_test_shuffle)"
   ]
  },
  {
   "cell_type": "code",
   "execution_count": 55,
   "id": "035f0fa2",
   "metadata": {},
   "outputs": [
    {
     "data": {
      "text/plain": [
       "array([22010.        , 15950.4484127 , 17545.        , 12461.08058608,\n",
       "       15716.        , 20649.7972583 , 18654.25333333, 29620.83333333,\n",
       "       10639.425     , 15588.        ])"
      ]
     },
     "execution_count": 55,
     "metadata": {},
     "output_type": "execute_result"
    }
   ],
   "source": [
    "RAND_pri=Random.predict(x_test_shuffle)\n",
    "RAND_pri"
   ]
  },
  {
   "cell_type": "code",
   "execution_count": 56,
   "id": "c470cb41",
   "metadata": {},
   "outputs": [
    {
     "data": {
      "text/plain": [
       "0.824538011450889"
      ]
     },
     "execution_count": 56,
     "metadata": {},
     "output_type": "execute_result"
    }
   ],
   "source": [
    "Random_Forest_regression=Random.score(x_test_shuffle,y_test_shuffle)\n",
    "Random_Forest_regression"
   ]
  },
  {
   "cell_type": "code",
   "execution_count": 57,
   "id": "a127ca8e",
   "metadata": {},
   "outputs": [
    {
     "data": {
      "text/plain": [
       "<AxesSubplot:ylabel='price'>"
      ]
     },
     "execution_count": 57,
     "metadata": {},
     "output_type": "execute_result"
    },
    {
     "data": {
      "image/png": "[encoded data removed]",
      "text/plain": [
       "<Figure size 432x288 with 1 Axes>"
      ]
     },
     "metadata": {
      "needs_background": "light"
     },
     "output_type": "display_data"
    }
   ],
   "source": [
    "sns.scatterplot(x_test_shuffle.index,y_test_shuffle)\n",
    "sns.scatterplot(x_test_shuffle.index,RAND_pri)"
   ]
  },
  {
   "cell_type": "code",
   "execution_count": 58,
   "id": "77bafb23",
   "metadata": {},
   "outputs": [],
   "source": [
    "import pickle"
   ]
  },
  {
   "cell_type": "code",
   "execution_count": 59,
   "id": "d498f75d",
   "metadata": {},
   "outputs": [],
   "source": [
    "import os as os"
   ]
  },
  {
   "cell_type": "code",
   "execution_count": 60,
   "id": "ffc683c9",
   "metadata": {},
   "outputs": [],
   "source": [
    "os.chdir('C:\\\\Users\\\\Ashish_Parulekar\\\\PYTHON_FILES\\\\DIPLOYMENT\\\\PUNE_RENT_APP')"
   ]
  },
  {
   "cell_type": "code",
   "execution_count": 61,
   "id": "3b2f0d0e",
   "metadata": {},
   "outputs": [],
   "source": [
    "#save=pickle.dumps('C:\\\\Users\\\\Ashish_Parulekar\\\\PYTHON_FILES\\\\Project_2_Pune_rent_Regression_Model\\\\DIP_PUNE_RENT.pkl')"
   ]
  },
  {
   "cell_type": "code",
   "execution_count": 62,
   "id": "3da866c6",
   "metadata": {},
   "outputs": [],
   "source": [
    "pickle.dump(Random,open('Pune_Rent_App.pkl', 'wb'))"
   ]
  },
  {
   "cell_type": "code",
   "execution_count": null,
   "id": "e1c63ade",
   "metadata": {},
   "outputs": [],
   "source": []
  }
 ],
 "metadata": {
  "kernelspec": {
   "display_name": "Python 3 (ipykernel)",
   "language": "python",
   "name": "python3"
  },
  "language_info": {
   "codemirror_mode": {
    "name": "ipython",
    "version": 3
   },
   "file_extension": ".py",
   "mimetype": "text/x-python",
   "name": "python",
   "nbconvert_exporter": "python",
   "pygments_lexer": "ipython3",
   "version": "3.9.7"
  }
 },
 "nbformat": 4,
 "nbformat_minor": 5
}
